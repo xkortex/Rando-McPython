{
 "cells": [
  {
   "cell_type": "code",
   "execution_count": 1,
   "metadata": {},
   "outputs": [],
   "source": [
    "%matplotlib inline\n",
    "from matplotlib import pyplot as plt\n",
    "from matplotlib.pyplot import plot, scatter, imshow, rcParams\n",
    "import os, sys\n",
    "import re, string\n",
    "from io import StringIO\n",
    "from glob import glob\n",
    "import numpy as np, scipy as sp, pandas as pd\n",
    "from scipy.integrate import cumtrapz\n",
    "from scipy import signal\n",
    "from scipy.special import erf, expit\n",
    "import csv, json\n",
    "import editdistance as edist\n",
    "from pandas.plotting import andrews_curves, parallel_coordinates, radviz\n",
    "\n",
    "from sklearn.decomposition import PCA\n",
    "from sklearn.manifold import TSNE\n",
    "from sklearn.cluster import KMeans"
   ]
  },
  {
   "cell_type": "code",
   "execution_count": null,
   "metadata": {},
   "outputs": [],
   "source": []
  }
 ],
 "metadata": {
  "kernelspec": {
   "display_name": "Python 3",
   "language": "python",
   "name": "python3"
  },
  "language_info": {
   "codemirror_mode": {
    "name": "ipython",
    "version": 3
   },
   "file_extension": ".py",
   "mimetype": "text/x-python",
   "name": "python",
   "nbconvert_exporter": "python",
   "pygments_lexer": "ipython3",
   "version": "3.6.7"
  }
 },
 "nbformat": 4,
 "nbformat_minor": 2
}
